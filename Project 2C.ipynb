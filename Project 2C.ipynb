{
 "cells": [
  {
   "cell_type": "markdown",
   "id": "d8824d32",
   "metadata": {},
   "source": [
    "# Project 2"
   ]
  },
  {
   "cell_type": "markdown",
   "id": "0423d0c3",
   "metadata": {},
   "source": [
    "## Scientific Question: Why do tea leaves (Camellia sinensis) have a different caffeine content than the same amount of coffee beans (Coffea arabica)?"
   ]
  },
  {
   "cell_type": "markdown",
   "id": "75668ea0",
   "metadata": {},
   "source": [
    "Caffeine is a methylxanthine alkaloid found in a variety of plants, most notably Camellia sinensis (tea) and Coffea arabica (coffee), and is favored by many due to its stimulant nature. Caffeine inhibits adenosine-mediated downregulation of CNS activity and promotes neurotransmitter release that further stimulates the CNS (https://ncithesaurus.nci.nih.gov/ncitbrowser/ConceptReport.jsp?dictionary=NCI_Thesaurus&ns=ncit&code=C328). Caffeine biosynthesis in both tea and coffee plants mainly follows this pathway: xanthosine → 7-methylxanthosine → 7-methylxanthine → theobromine → caffeine (https://www.researchgate.net/figure/Caffeine-biosynthetic-pathway-in-tea-plants-showing-the-genes-studied-in-this-work-IMP_fig1_5323113#:~:text=The%20main%20biosynthetic%20pathway%20is,slow%20in%20caffeine%2Daccumulating%20plants). The enzymes involved in the synthesis of caffeine are N-methyltransferases, which transfer methyl groups from S-adenosyl-L-methionine onto caffeine precursors (https://www.ncbi.nlm.nih.gov/pmc/articles/PMC1165278/pdf/biochemj00564-0092.pdf). In tea plants, tea caffeine synthase 1 (TCS1) catalyzes the final two steps of caffeine synthesis, converting 7-methylxanthine to thebromine and theobromine to caffeine. In coffee plants, the final two steps of caffeine synthesis are catalyzed by CaMXMT and CaDXMT1, respectively (https://www.pnas.org/doi/10.1073/pnas.1602575113). CaDXMT2 has been studied relatively recently and is thought to catalyze the last two steps of caffeine synthesis, just as TCS1 does.\n",
    "\n",
    "The protein sequences and structures for TCS1 and CaDXMT can be found on the UniProt database (https://www.uniprot.org/). As stated on this database's website: \n",
    "\n",
    "\"The Universal Protein Resource (UniProt) is a comprehensive resource for protein sequence and annotation data. The UniProt databases are the UniProt Knowledgebase (UniProtKB), the UniProt Reference Clusters (UniRef), and the UniProt Archive (UniParc). The UniProt consortium and host institutions EMBL-EBI, SIB and PIR are committed to the long-term preservation of the UniProt databases. \n",
    "\n",
    "UniProt is a collaboration between the European Bioinformatics Institute (EMBL-EBI), the SIB Swiss Institute of Bioinformatics and the Protein Information Resource (PIR). Across the three institutes more than 100 people are involved through different tasks such as database curation, software development and support.\n",
    "\n",
    "EMBL-EBI and SIB together used to produce Swiss-Prot and TrEMBL, while PIR produced the Protein Sequence Database (PIR-PSD). These two data sets coexisted with different protein sequence coverage and annotation priorities. TrEMBL (Translated EMBL Nucleotide Sequence Data Library) was originally created because sequence data was being generated at a pace that exceeded Swiss-Prot's ability to keep up. Meanwhile, PIR maintained the PIR-PSD and related databases, including iProClass, a database of protein sequences and curated families. In 2002 the three institutes decided to pool their resources and expertise and formed the UniProt consortium.\""
   ]
  },
  {
   "cell_type": "markdown",
   "id": "b7f21d74",
   "metadata": {},
   "source": [
    "## Scientific Hypothesis: If caffeine synthases, such as TCS1 and CaDXMT1/CaDXMT2, are known to be essential to the caffeine synthesis pathway and known to have similar expression levels in Camellia sinensis and Coffea arabica, respectively, then it is likely that the difference in caffeine content between the two species comes from differences in the enzyme structures."
   ]
  },
  {
   "cell_type": "markdown",
   "id": "d309fcfa",
   "metadata": {},
   "source": [
    "There were many different known and proposed caffeine synthases from a variety of species identified from the UniProt database. Protein sequences for TCS1A, TCS1E, CaDXMT1, and CaDXMT2 were identified on UniProt and saved as a fasta file that was then read in here for a pairwise alignment analysis, the first bioinformatics analysis done in this notebook.\n",
    "\n",
    "Pairwise sequence alignment is used to identify regions of similarity between two sequences (protein sequences in this case) that may indicate functional, structural and/or evolutionary relationships.\n",
    "\n",
    "Understanding the sequences of these compounds is important to contextualize the similarity of these compounds and interpreting interpreting the heat map results. The second bioinformatics analyses done in this notebook are structural bioinformatics/homology modeling.\n",
    "\n",
    "Protein structures for TCS1A, TCS1E, CaDXMT1, and CaDXMT2 were identified on SwissProt and saved as 4 .pdb files that were then read in here. 3D measurements of atom-atom distances between certain residues of TCS1/CaDXMT were inspected to show strucutral differences between the two enzymes. ***MAYBE: The residues of each enzyme were mapped to each other and the structures were also superimposed to further investigate strucutral similarities and differences***.\n",
    "\n",
    "To answer this scientific question and test my hypothesis, I searched for TCS1 and CaDXMT (3,7-dimethylxanthine N-methyltransferase) on UniProt and I then downloaded fasta file with all four sequences and a pdb file for each individual protein. That is the data I imported here."
   ]
  },
  {
   "cell_type": "markdown",
   "id": "a2f6082f",
   "metadata": {},
   "source": [
    "## Part 1: Load the Packages\n",
    "\n",
    "numpy: \n",
    "\n",
    "matplotlib:\n",
    "\n",
    "nglview:\n",
    "\n",
    "biopython: "
   ]
  },
  {
   "cell_type": "code",
   "execution_count": 26,
   "id": "7d364641",
   "metadata": {},
   "outputs": [
    {
     "name": "stdout",
     "output_type": "stream",
     "text": [
      "Collecting package metadata (current_repodata.json): ...working... done\n",
      "Note: you may need to restart the kernel to use updated packages.\n",
      "\n",
      "Solving environment: ...working... done\n",
      "\n",
      "## Package Plan ##\n",
      "\n",
      "  environment location: C:\\Users\\Luvly_000\\anaconda3\n",
      "\n",
      "  added / updated specs:\n",
      "    - biopython\n",
      "\n",
      "\n",
      "The following packages will be downloaded:\n",
      "\n",
      "    package                    |            build\n",
      "    ---------------------------|-----------------\n",
      "    biopython-1.79             |   py39hb82d6ee_1         2.6 MB  conda-forge\n",
      "    ------------------------------------------------------------\n",
      "                                           Total:         2.6 MB\n",
      "\n",
      "The following packages will be UPDATED:\n",
      "\n",
      "  biopython          pkgs/main::biopython-1.78-py39h2bbff1~ --> conda-forge::biopython-1.79-py39hb82d6ee_1\n",
      "\n",
      "\n",
      "\n",
      "Downloading and Extracting Packages\n",
      "\n",
      "biopython-1.79       | 2.6 MB    |            |   0% \n",
      "biopython-1.79       | 2.6 MB    |            |   1% \n",
      "biopython-1.79       | 2.6 MB    | ###        |  31% \n",
      "biopython-1.79       | 2.6 MB    | ######5    |  65% \n",
      "biopython-1.79       | 2.6 MB    | ########## | 100% \n",
      "biopython-1.79       | 2.6 MB    | ########## | 100% \n",
      "Preparing transaction: ...working... done\n",
      "Verifying transaction: ...working... done\n",
      "Executing transaction: ...working... done\n"
     ]
    }
   ],
   "source": [
    "conda install -c conda-forge biopython"
   ]
  },
  {
   "cell_type": "code",
   "execution_count": 20,
   "id": "6a7938a4",
   "metadata": {},
   "outputs": [
    {
     "name": "stdout",
     "output_type": "stream",
     "text": [
      "Collecting package metadata (current_repodata.json): ...working... done\n",
      "Solving environment: ...working... done\n",
      "\n",
      "# All requested packages already installed.\n",
      "\n",
      "\n",
      "Note: you may need to restart the kernel to use updated packages.\n"
     ]
    }
   ],
   "source": [
    "conda install nglview -c conda-forge"
   ]
  },
  {
   "cell_type": "code",
   "execution_count": 13,
   "id": "82f8c46b",
   "metadata": {},
   "outputs": [
    {
     "name": "stdout",
     "output_type": "stream",
     "text": [
      "Collecting package metadata (current_repodata.json): ...working... done\n",
      "Solving environment: ...working... \n",
      "Warning: >10 possible package resolutions (only showing differing packages):\n",
      "  - r/noarch::r-lava-1.6.5-r36h6115d3f_0, r/noarch::r-numderiv-2016.8_1-r36h6115d3f_0, r/noarch::r-squarem-2017.10_1-r36h6115d3f_0, r/win-64::r-ps-1.3.0-r36h6115d3f_0\n",
      "\n",
      "Note: you may need to restart the kernel to use updated packages.  - defaults/noarch::r-squarem-2017.10_1-r36h6115d3f_0, r/noarch::r-lava-1.6.5-r36h6115d3f_0, r/noarch::r-numderiv-2016.8_1-r36h6115d3f_0, r/win-64::r-ps-1.3.0-r36h6115d3f_0\n",
      "  - defaults/noarch::r-numderiv-2016.8_1-r36h6115d3f_0, r/noarch::r-lava-1.6.5-r36h6115d3f_0, r/noarch::r-squarem-2017.10_1-r36h6115d3f_0, r/win-64::r-ps-1.3.0-r36h6115d3f_0\n",
      "  - defaults/noarch::r-numderiv-2016.8_1-r36h6115d3f_0, defaults/noarch::r-squarem-2017.10_1-r36h6115d3f_0, r/noarch::r-lava-1.6.5-r36h6115d3f_0, r/win-64::r-ps-1.3.0-r36h6115d3f_0\n",
      "  - defaults/noarch::r-numderiv-2016.8_1-r36h6115d3f_0, defaults/win-64::r-ps-1.3.0-r36h6115d3f_0, r/noarch::r-lava-1.6.5-r36h6115d3f_0, r/noarch::r-squarem-2017.10_1-r36h6115d3f_0\n",
      "  - defaults/noarch::r-numderiv-2016.8_1-r36h6115d3f_0, defaults/noarch::r-squarem-2017.10_1-r36h6115d3f_0, defaults/win-64::r-ps-1.3.0-r36h6115d3f_0, r/noarch::r-lava-1.6.5-r36h6115d3f_0\n",
      "  - defaults/win-64::r-ps-1.3.0-r36h6115d3f_0, r/noarch::r-lava-1.6.5-r36h6115d3f_0, r/noarch::r-numderiv-2016.8_1-r36h6115d3f_0, r/noarch::r-squarem-2017.10_1-r36h6115d3f_0\n",
      "  - defaults/noarch::r-squarem-2017.10_1-r36h6115d3f_0, defaults/win-64::r-ps-1.3.0-r36h6115d3f_0, r/noarch::r-lava-1.6.5-r36h6115d3f_0, r/noarch::r-numderiv-2016.8_1-r36h6115d3f_0\n",
      "  - defaults/noarch::r-lava-1.6.5-r36h6115d3f_0, defaults/win-64::r-ps-1.3.0-r36h6115d3f_0, r/noarch::r-numderiv-2016.8_1-r36h6115d3f_0, r/noarch::r-squarem-2017.10_1-r36h6115d3f_0\n",
      "  - defaults/noarch::r-lava-1.6.5-r36h6115d3f_0, r/noarch::r-numderiv-2016.8_1-r36h6115d3f_0, r/noarch::r-squarem-2017.10_1-r36h6115d3f_0, r/win-64::r-ps-1.3.0-r36h6115d3f_0\n",
      "  ... and othersdone\n",
      "\n",
      "## Package Plan ##\n",
      "\n",
      "\n"
     ]
    },
    {
     "name": "stderr",
     "output_type": "stream",
     "text": [
      "\n",
      "\n",
      "WARNING: The --force flag will be removed in a future conda release."
     ]
    },
    {
     "name": "stdout",
     "output_type": "stream",
     "text": [
      "  environment location: C:\\Users\\Luvly_000\\anaconda3\n",
      "\n",
      "  added / updated specs:\n",
      "    - nglview\n",
      "\n",
      "\n",
      "\n",
      "Preparing transaction: ...working... done\n",
      "Verifying transaction: ...working... done\n",
      "Executing transaction: ...working... done\n"
     ]
    },
    {
     "name": "stderr",
     "output_type": "stream",
     "text": [
      "\n",
      "         See 'conda update --help' for details about the --force-reinstall\n",
      "         and --clobber flags.\n",
      "\n",
      "\n"
     ]
    }
   ],
   "source": [
    "conda upgrade nglview --force"
   ]
  },
  {
   "cell_type": "code",
   "execution_count": 21,
   "id": "b84f6d33",
   "metadata": {},
   "outputs": [
    {
     "name": "stderr",
     "output_type": "stream",
     "text": [
      "Enabling notebook extension nglview-js-widgets/extension...\n",
      "      - Validating: ok\n"
     ]
    }
   ],
   "source": [
    "!jupyter-nbextension enable nglview --py --sys-prefix"
   ]
  },
  {
   "cell_type": "code",
   "execution_count": 17,
   "id": "fb8a4f22",
   "metadata": {},
   "outputs": [
    {
     "name": "stdout",
     "output_type": "stream",
     "text": [
      "Collecting package metadata (current_repodata.json): ...working... done\n",
      "Solving environment: ...working... done\n",
      "\n",
      "## Package Plan ##\n",
      "\n",
      "  environment location: C:\\Users\\Luvly_000\\anaconda3\n",
      "\n",
      "  added / updated specs:\n",
      "    - nglview\n",
      "\n",
      "\n",
      "The following packages will be downloaded:\n",
      "\n",
      "    package                    |            build\n",
      "    ---------------------------|-----------------\n",
      "    nglview-1.1.7              |             py_0         4.5 MB  bioconda\n",
      "    ------------------------------------------------------------\n",
      "                                           Total:         4.5 MB\n",
      "\n",
      "The following packages will be SUPERSEDED by a higher-priority channel:\n",
      "\n",
      "  nglview            conda-forge::nglview-3.0.3-pyh8a188c0~ --> bioconda::nglview-1.1.7-py_0\n",
      "\n",
      "\n",
      "\n",
      "Downloading and Extracting Packages\n",
      "\n",
      "nglview-1.1.7        | 4.5 MB    |            |   0% \n",
      "nglview-1.1.7        | 4.5 MB    |            |   0% \n",
      "nglview-1.1.7        | 4.5 MB    | 7          |   7% \n",
      "Note: you may need to restart the kernel to use updated packages.\n",
      "\n",
      "nglview-1.1.7        | 4.5 MB    | #1         |  11% \n",
      "nglview-1.1.7        | 4.5 MB    | ##8        |  29% \n",
      "nglview-1.1.7        | 4.5 MB    | ####9      |  49% \n",
      "nglview-1.1.7        | 4.5 MB    | #######5   |  75% \n",
      "nglview-1.1.7        | 4.5 MB    | ########## | 100% \n",
      "nglview-1.1.7        | 4.5 MB    | ########## | 100% \n",
      "Preparing transaction: ...working... done\n",
      "Verifying transaction: ...working... done\n",
      "Executing transaction: ...working... done\n"
     ]
    }
   ],
   "source": [
    "conda install -c bioconda nglview"
   ]
  },
  {
   "cell_type": "code",
   "execution_count": 44,
   "id": "ff647ad8",
   "metadata": {},
   "outputs": [],
   "source": [
    "# Correctly import all the packages needed \n",
    "# Includes downloading packages as seen above.\n",
    "import numpy as np\n",
    "import matplotlib.pyplot as plt\n",
    "from Bio import pairwise2\n",
    "from Bio import SeqIO\n",
    "from Bio.Seq import Seq\n",
    "from Bio.PDB import *\n",
    "import nglview as ngl"
   ]
  },
  {
   "cell_type": "markdown",
   "id": "c28a9ab0",
   "metadata": {},
   "source": [
    "## Part 2: Load in the data and perform Bioinformatics Analyses (Pairwise Sequence Analysis & Structural Bioinformatics)\n",
    "\n",
    "Fasta file format is a text-based format for representing either nucleotide sequences or peptide sequences, in which base pairs or amino acids are represented using single-letter codes. A sequence in FASTA format begins with a single-line description, followed by lines of sequence data. Pairwise sequence alignment returns alignments scores where a higher score indicates higher similarity between two sequences.\n",
    "\n",
    "PDB file format is a textual file format describing the three-dimensional structures of molecules held in the Protein Data Bank. These files list the atoms in each protein, and their 3D location in space. A typical PDB formatted file includes a large \"header\" section of text that summarizes the protein, citation information, and the details of the structure solution, followed by the sequence and a long list of the atoms and their coordinates. The archive also contains the experimental observations that are used to determine these atomic coordinates. Structural bioinformatics can give us quantitiative differences between 3D protein structures.\n",
    "\n",
    "In the code below, we read in protein sequences from a fasta file, and then perform pairwise sequence alignment between each pair of sequences. Use a for loop to iterate through all of the protein pairs to calculate the alignment scores to store in the matrix my_numpy_array.\n",
    "\n",
    "Later in the code, we read in protein structures from pdb files and perform structural bioinformatics as analyses (3D measurements) to compare the various caffeine synthases. "
   ]
  },
  {
   "cell_type": "code",
   "execution_count": 25,
   "id": "4c2c74dd",
   "metadata": {},
   "outputs": [],
   "source": [
    "# Read in the fasta file using BioPython's SeqIO built-in parse function\n",
    "# Define global variable fasta\n",
    "fasta = list(SeqIO.parse(\"DXMT1_TCS1A_DXMT2_TCS1E.fasta\", \"fasta\"))\n",
    "\n",
    "# Define the size variable to be used in the nested for loop below\n",
    "# Define global variable size\n",
    "size = len(fasta)\n",
    "\n",
    "# Initiate an empy numpy matrix that is the length of the fasta file\n",
    "# Define global variable alignments_score\n",
    "alignments_score = np.empty(shape=(size,size))"
   ]
  },
  {
   "cell_type": "markdown",
   "id": "a07e144b",
   "metadata": {},
   "source": [
    "## Part 3A: Create a heatmap (plotting method) to show the alignment scores (bioinformatics method) between all compounds in the set.\n",
    "\n",
    "A heatmap is a plotting method that colors the levels of some feature that can be defined by two inputs. In this case, the two inputs are two of the potential compounds from the entire list of 4 caffeine synthases. The colors here are showing the level of protein sequence similarity between the two inputs"
   ]
  },
  {
   "cell_type": "code",
   "execution_count": 26,
   "id": "c9de7a1c",
   "metadata": {},
   "outputs": [
    {
     "name": "stdout",
     "output_type": "stream",
     "text": [
      "sp|Q8H0D2|DXMT1_COFAR\n",
      "sp|Q8H0D2|DXMT1_COFAR\n",
      "sp|Q8H0D2|DXMT1_COFAR\n",
      "sp|Q8H0D2|DXMT1_COFAR\n",
      "sp|Q9FZN8|TCS1_CAMSI\n",
      "sp|Q9FZN8|TCS1_CAMSI\n",
      "sp|Q9FZN8|TCS1_CAMSI\n",
      "sp|Q9FZN8|TCS1_CAMSI\n",
      "sp|Q8H0D3|DXMT2_COFAR\n",
      "sp|Q8H0D3|DXMT2_COFAR\n",
      "sp|Q8H0D3|DXMT2_COFAR\n",
      "sp|Q8H0D3|DXMT2_COFAR\n",
      "sp|A0A0S2PM82|TCS3_CAMSI\n",
      "sp|A0A0S2PM82|TCS3_CAMSI\n",
      "sp|A0A0S2PM82|TCS3_CAMSI\n",
      "sp|A0A0S2PM82|TCS3_CAMSI\n"
     ]
    }
   ],
   "source": [
    "# Nested for loop to do pairwise sequence alignment for each pair of caffeine synthases\n",
    "def pairwise_seq_heatmap(my_numpy_array, size):\n",
    "    # Loop over the caffeine synthases \n",
    "    for i in range(size):\n",
    "        # Loop over the caffeine synthases again\n",
    "        for j in range(size):\n",
    "        # Define two sequences to be aligned\n",
    "        # Define local variables x and y\n",
    "            x = fasta[i].seq\n",
    "            y = fasta[j].seq\n",
    "            # Code check below\n",
    "            print(fasta[i].id)\n",
    "\n",
    "        # Use of built-in pairwise2 method gloaballxx (from biopython)\n",
    "        # Reads in two sequences (nucleotide or amino acid) and returns the\n",
    "        # sequence alignments between the two sequences with scores\n",
    "        # Get a list of the global alignments between the two sequences x and y\n",
    "        # No parameters. Identical characters have score of 1, else 0.\n",
    "        # No gap penalties.\n",
    "        # Update input array my_numpy_array\n",
    "            my_numpy_array[i,j] = int(pairwise2.align.globalxx(x, y, score_only=True))\n",
    "\n",
    "    return my_numpy_array\n",
    "\n",
    "# Call the pairwise_seq_heatmap function defined above with arguments alignments_score and size\n",
    "# Define global variable My_alignment_Scores\n",
    "My_alignment_Scores = pairwise_seq_heatmap(alignments_score, size)\n",
    "# Check that the for loop correctly created the matrix\n",
    "#print(My_alignment_Scores)"
   ]
  },
  {
   "cell_type": "code",
   "execution_count": 27,
   "id": "e3466a12",
   "metadata": {},
   "outputs": [
    {
     "data": {
      "image/png": "[encoded data removed]",
      "text/plain": [
       "<Figure size 432x288 with 2 Axes>"
      ]
     },
     "metadata": {
      "needs_background": "light"
     },
     "output_type": "display_data"
    }
   ],
   "source": [
    "# Create subplots\n",
    "# Define global variables fig and ax\n",
    "fig, ax = plt.subplots()\n",
    "\n",
    "# Actually show the heatplot with matplotlib built-in imshow function\n",
    "plt.imshow(alignments_score)\n",
    "\n",
    "# Construct the heat map to show the axes\n",
    "# Define global variable im\n",
    "im = ax.imshow(alignments_score)\n",
    "\n",
    "# Add a colorbar to the right of the heatmap\n",
    "# Define global variable cbar\n",
    "cbar = ax.figure.colorbar(im)\n",
    "\n",
    "# Show the plot\n",
    "plt.show()"
   ]
  },
  {
   "cell_type": "markdown",
   "id": "1eec54d4",
   "metadata": {},
   "source": [
    "## Part 4.1: Analysis of the results (heat map)\n",
    "\n",
    "The plot above shows the similarities between protein sequences of, in order, TCS1A, DXMT1, TCS1E, and DXMT2. All four enzymes were downloaded from the UniProt. Caffeine synthases that are more similar to one another have a higher pairwise alignment score (closer to 380 & yellow) and those that are less similar to one another have a lower pairwise alignment score (closer to 200 & purple). Each cell in the matrix represents a pairwise alignment score score. The central diagonal all yellow because these are comparing the similarity between a compound and itself. The two TCS1 enzymes (TCS1A and TCS1E) have a high similarity with a pairwise alignment score of around 360. The two CaDXMT enzymes (DXMT1 and DXMT2) have a slightly lower sequence similarity with a pairwise alignment score of around 340. However, pairs of enzymes between species (i.e. TCS1A and DXMT1 or 2) have very low pairwise alignment scores, around 200, indicating around 50% difference between these sequences (200 similarities out of about 400 amino acids total)."
   ]
  },
  {
   "cell_type": "code",
   "execution_count": 35,
   "id": "a88e54af",
   "metadata": {},
   "outputs": [
    {
     "name": "stdout",
     "output_type": "stream",
     "text": [
      "Distance: 22.520088\n"
     ]
    }
   ],
   "source": [
    "# Create a PDBParser object in order to read in pdb files\n",
    "# Define global variable parser\n",
    "parser = PDBParser()\n",
    "\n",
    "# Use the parser to read in the TCS1A pdb file\n",
    "# Define global variable tcs1a_pdb\n",
    "tcs1a_pdb = parser.get_structure('TCS1A', 'AF-Q9FZN8-F1-model_v2.pdb')\n",
    "# Use nglview's built-in function show_biopython to get the protein structure\n",
    "# Define global variable tcs1a_structure\n",
    "tcs1a_structure = ngl.show_biopython(tcs1a_pdb)\n",
    "\n",
    "# Retrieve the model information from the pdb file\n",
    "# Define global variable model\n",
    "model = tcs1a_pdb[0]\n",
    "# Retrieve the chain information from the model\n",
    "# Define global variable chain\n",
    "chain = model[\"A\"]\n",
    "# Retrieve the first instance of GLY residue\n",
    "# Define global variable GLY1\n",
    "GLY1 = chain[7] #hard coded ***fix\n",
    "# Retrieve the second instance of GLY residue\n",
    "# Define global variable GLY2\n",
    "GLY2 = chain[18] #hard coded ***fix\n",
    "# Retrieve the location of the alpha carbon of GLY1\n",
    "# Define global variable ca1\n",
    "ca1 = GLY1[\"CA\"]\n",
    "# Retrieve the location of the alpha carbon of GLY2\n",
    "# Define global variable ca2\n",
    "ca2 = GLY2[\"CA\"]\n",
    "\n",
    "#res_list = Selection.unfold_entities(tcs1a_pdb, \"R\") #maybe use to find first and second instances of GLY;\n",
    "# maybe should use instances of proline instead bc it's known to change structures (bc bulky)\n",
    "\n",
    "# Find the distance between two atoms\n",
    "# Define global variable distance\n",
    "distance = ca1 - ca2\n",
    "# Check that a distance has been returned\n",
    "#print ('Distance: ' + str(distance))"
   ]
  },
  {
   "cell_type": "code",
   "execution_count": 37,
   "id": "87caeb2c",
   "metadata": {},
   "outputs": [
    {
     "data": {
      "application/vnd.jupyter.widget-view+json": {
       "model_id": "3371265fda4745469d816e0e514c51d7",
       "version_major": 2,
       "version_minor": 0
      },
      "text/plain": [
       "NGLWidget()"
      ]
     },
     "metadata": {},
     "output_type": "display_data"
    }
   ],
   "source": [
    "# View image of 3D structure of TCS1A\n",
    "tcs1a_structure"
   ]
  },
  {
   "cell_type": "code",
   "execution_count": 42,
   "id": "5740a8e3",
   "metadata": {},
   "outputs": [
    {
     "name": "stdout",
     "output_type": "stream",
     "text": [
      "Distance: 3.8684144\n"
     ]
    }
   ],
   "source": [
    "# Use the parser to read in the DXMT2 pdb file\n",
    "# Define global variable DXMT2\n",
    "dxmt2_pdb = parser.get_structure('DXMT2', 'AF-Q8H0D3-F1-model_v2.pdb')\n",
    "# Use nglview's built-in function show_biopython to get the protein structure\n",
    "# Define global variable dxmt2_structure\n",
    "dxmt2_structure = ngl.show_biopython(dxmt2_pdb)\n",
    "\n",
    "# Retrieve the model information from the pdb file\n",
    "# Define global variable model2\n",
    "model2 = dxmt2_pdb[0]\n",
    "# Retrieve the chain information from the model\n",
    "# Define global variable chain2\n",
    "chain2 = model[\"A\"]\n",
    "# Retrieve the first instance of GLY residue in DXMT2\n",
    "# Define global variable GLY3\n",
    "GLY3 = chain[11] #hard coded ***fix\n",
    "# Retrieve the second instance of GLY residue in DXMT2\n",
    "# Define global variable GLY4\n",
    "GLY4 = chain[12] #hard coded ***fix\n",
    "# Retrieve the location of the alpha carbon of GLY3\n",
    "# Define global variable ca3\n",
    "ca3 = GLY3[\"CA\"]\n",
    "# Retrieve the location of the alpha carbon of GLY4\n",
    "# Define global variable ca4\n",
    "ca4 = GLY4[\"CA\"]\n",
    "\n",
    "#res_list = Selection.unfold_entities(dxmt2_pdb, \"R\")\n",
    "\n",
    "# Find the distance between two atoms; effectively the distance between the first to GLY\n",
    "# Define global variable distance2\n",
    "distance2 = ca3 - ca4\n",
    "print ('Distance: ' + str(distance2))"
   ]
  },
  {
   "cell_type": "code",
   "execution_count": 43,
   "id": "d80a3e01",
   "metadata": {},
   "outputs": [
    {
     "data": {
      "application/vnd.jupyter.widget-view+json": {
       "model_id": "30a2c1bc7ebe4927abd9424bc8c7f965",
       "version_major": 2,
       "version_minor": 0
      },
      "text/plain": [
       "NGLWidget()"
      ]
     },
     "metadata": {},
     "output_type": "display_data"
    }
   ],
   "source": [
    "# View image of 3D structure of TCS1A\n",
    "dxmt2_structure"
   ]
  },
  {
   "cell_type": "markdown",
   "id": "150ea9f7",
   "metadata": {},
   "source": [
    "## Part 4.2: Analysis of the results (structural bioinformatics)\n",
    "\n",
    "If we look at the structure of the two caffeine synthases above (TCS1A and DXMT2), the lack of similarity seen in the heat map makes sense in that caffeine synthases from Camellia sinensis are very different from caffeine synthases from Coffea arabica. Not only are the protein sequences different, but so are the protein structures. The folding and conformations of TCS1A and DXMT2 are quite different. Thus, assuming that expression levels of these two enzymes are similar in their respective plants and that they both play the same role in the caffeine biosynthesis pathway (catalyzing the final two steps), then my hypothesis is likely to be correct and the difference in caffeine content between Camellia sinensis and Coffea arabica is due to strucutral differences of their caffeine synthases."
   ]
  },
  {
   "cell_type": "code",
   "execution_count": null,
   "id": "b3cee9c7",
   "metadata": {},
   "outputs": [],
   "source": []
  }
 ],
 "metadata": {
  "kernelspec": {
   "display_name": "Python 3 (ipykernel)",
   "language": "python",
   "name": "python3"
  },
  "language_info": {
   "codemirror_mode": {
    "name": "ipython",
    "version": 3
   },
   "file_extension": ".py",
   "mimetype": "text/x-python",
   "name": "python",
   "nbconvert_exporter": "python",
   "pygments_lexer": "ipython3",
   "version": "3.9.7"
  }
 },
 "nbformat": 4,
 "nbformat_minor": 5
}
